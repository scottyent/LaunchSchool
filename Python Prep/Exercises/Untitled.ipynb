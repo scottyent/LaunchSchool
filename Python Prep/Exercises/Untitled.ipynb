{
 "cells": [
  {
   "cell_type": "code",
   "execution_count": 5,
   "id": "varying-indonesia",
   "metadata": {},
   "outputs": [
    {
     "name": "stdout",
     "output_type": "stream",
     "text": [
      "{'Asta': 'dog', 'Butterscotch': 'cat', 'Pudding': 'cat', 'Neptune': 'fish', 'Darwin': 'lizard'}\n",
      "<class 'dict'>\n",
      "Asta is a dog\n"
     ]
    }
   ],
   "source": [
    "pet_names = {\n",
    "    'Asta': 'dog',\n",
    "    'Butterscotch': 'cat',\n",
    "    'Pudding': 'cat',\n",
    "    'Neptune': 'fish',\n",
    "    'Darwin': 'lizard'\n",
    "}\n",
    "\n",
    "print(pet_names)\n",
    "print(type(pet_names))\n",
    "\n",
    "print(f'Asta is a {pet_names[\"Asta\"]}')"
   ]
  },
  {
   "cell_type": "code",
   "execution_count": null,
   "id": "political-adult",
   "metadata": {},
   "outputs": [],
   "source": []
  }
 ],
 "metadata": {
  "kernelspec": {
   "display_name": "Python 3",
   "language": "python",
   "name": "python3"
  },
  "language_info": {
   "codemirror_mode": {
    "name": "ipython",
    "version": 3
   },
   "file_extension": ".py",
   "mimetype": "text/x-python",
   "name": "python",
   "nbconvert_exporter": "python",
   "pygments_lexer": "ipython3",
   "version": "3.9.19"
  }
 },
 "nbformat": 4,
 "nbformat_minor": 5
}
