{
 "cells": [
  {
   "cell_type": "code",
   "execution_count": 12,
   "id": "essential-railway",
   "metadata": {},
   "outputs": [
    {
     "name": "stdout",
     "output_type": "stream",
     "text": [
      "1276.28\n"
     ]
    }
   ],
   "source": [
    "balance = 1000\n",
    "\n",
    "for year in [1, 2, 3, 4, 5]:\n",
    "    balance *= 1.05\n",
    "\n",
    "print(f'{balance:.2f}')"
   ]
  },
  {
   "cell_type": "code",
   "execution_count": null,
   "id": "comic-training",
   "metadata": {},
   "outputs": [],
   "source": []
  }
 ],
 "metadata": {
  "kernelspec": {
   "display_name": "Python 3",
   "language": "python",
   "name": "python3"
  },
  "language_info": {
   "codemirror_mode": {
    "name": "ipython",
    "version": 3
   },
   "file_extension": ".py",
   "mimetype": "text/x-python",
   "name": "python",
   "nbconvert_exporter": "python",
   "pygments_lexer": "ipython3",
   "version": "3.9.19"
  }
 },
 "nbformat": 4,
 "nbformat_minor": 5
}
